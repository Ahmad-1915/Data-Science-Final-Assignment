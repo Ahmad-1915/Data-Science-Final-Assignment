{
 "cells": [
  {
   "cell_type": "markdown",
   "id": "214c1aac-8d29-4cc5-91a8-419ffdbe8b00",
   "metadata": {},
   "source": [
    "# Data Science Tools and Ecosystem"
   ]
  },
  {
   "cell_type": "markdown",
   "id": "323de729-72e9-472b-90b9-5e4dea6d059b",
   "metadata": {},
   "source": [
    "In this notebook, Data Science Tools and Ecosystem are summarized.\n"
   ]
  },
  {
   "cell_type": "markdown",
   "id": "d654c933-187a-469e-8336-be9a3213c0c6",
   "metadata": {},
   "source": [
    "**Objectives:**\n",
    "- Listing examples of popular data science languages.\n",
    "- Listing examples of popular data science libraries.\n",
    "- Listing examples of popular data science tools.\n",
    "- Demonstrating examples of evaluating arithmetic expressions in Python with practical uses."
   ]
  },
  {
   "cell_type": "markdown",
   "id": "016fdfac-3043-46a7-823c-c3d31061dcbd",
   "metadata": {},
   "source": [
    "Some of the popular languages that Data Scientists use are:\n",
    "1. Python\n",
    "2. R\n",
    "3. Java"
   ]
  },
  {
   "cell_type": "markdown",
   "id": "ed29164a-fd04-4d62-a395-38c00fee23d9",
   "metadata": {},
   "source": [
    "Some of the commonly used libraries used by Data Scientists include:\n",
    "1. Pandas\n",
    "2. Matplotlib\n",
    "3. Numpy"
   ]
  },
  {
   "cell_type": "markdown",
   "id": "53357d53-c301-4b5e-8942-684c927f496e",
   "metadata": {},
   "source": [
    "|Data Science Tools|\n",
    "|------------------|\n",
    "|Jupyter|\n",
    "|RStudio|\n",
    "|Spyder|"
   ]
  },
  {
   "cell_type": "markdown",
   "id": "ce137eef-fdf7-4c85-a3c6-15c0d7f3df7b",
   "metadata": {},
   "source": [
    "### Below are a few examples of evaluating arithmetic expressions in Python:"
   ]
  },
  {
   "cell_type": "code",
   "execution_count": 5,
   "id": "963747ed-14d2-4e9f-9062-4461254fb6ca",
   "metadata": {},
   "outputs": [
    {
     "data": {
      "text/plain": [
       "17"
      ]
     },
     "execution_count": 5,
     "metadata": {},
     "output_type": "execute_result"
    }
   ],
   "source": [
    "(3*4)+5 #This a simple arithmetic expression of combined multiplication and addition"
   ]
  },
  {
   "cell_type": "code",
   "execution_count": 6,
   "id": "8c3fb0d8-2e4c-4162-a11e-207e383c3175",
   "metadata": {},
   "outputs": [
    {
     "data": {
      "text/plain": [
       "3.3333333333333335"
      ]
     },
     "execution_count": 6,
     "metadata": {},
     "output_type": "execute_result"
    }
   ],
   "source": [
    "#This will convert 200 minutes to hours by diving by 60\n",
    "m = 200\n",
    "h = m/60\n",
    "h"
   ]
  },
  {
   "cell_type": "markdown",
   "id": "f599b200-82f3-4b9a-9920-897c96ddb9c1",
   "metadata": {},
   "source": [
    "## Author:\n",
    "Ahmad Al-Jama"
   ]
  },
  {
   "cell_type": "code",
   "execution_count": null,
   "id": "bf7afcc6-025e-4dfb-81aa-939155e61123",
   "metadata": {},
   "outputs": [],
   "source": []
  }
 ],
 "metadata": {
  "kernelspec": {
   "display_name": "Python 3 (ipykernel)",
   "language": "python",
   "name": "python3"
  },
  "language_info": {
   "codemirror_mode": {
    "name": "ipython",
    "version": 3
   },
   "file_extension": ".py",
   "mimetype": "text/x-python",
   "name": "python",
   "nbconvert_exporter": "python",
   "pygments_lexer": "ipython3",
   "version": "3.11.7"
  }
 },
 "nbformat": 4,
 "nbformat_minor": 5
}
